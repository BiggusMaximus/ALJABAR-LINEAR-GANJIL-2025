{
 "cells": [
  {
   "cell_type": "code",
   "execution_count": 2,
   "metadata": {},
   "outputs": [],
   "source": [
    "import numpy as np"
   ]
  },
  {
   "cell_type": "markdown",
   "metadata": {},
   "source": [
    "# **Matriks sebagai hasil dari Multiplikasi Produk Elementer**"
   ]
  },
  {
   "cell_type": "code",
   "execution_count": 3,
   "metadata": {},
   "outputs": [
    {
     "data": {
      "text/plain": [
       "array([[1., 0., 0.],\n",
       "       [0., 1., 0.],\n",
       "       [0., 0., 1.]])"
      ]
     },
     "execution_count": 3,
     "metadata": {},
     "output_type": "execute_result"
    }
   ],
   "source": [
    "\n",
    "# Original matrix A\n",
    "A = np.array([[2, 1, -1],\n",
    "              [-1, 3, 2],\n",
    "              [0, 2, 1]], dtype=float)\n",
    "\n",
    "# Elementary matrices\n",
    "E1 = np.array([[1/2, 0, 0],\n",
    "               [0, 1, 0],\n",
    "               [0, 0, 1]])\n",
    "\n",
    "E2 = np.array([[1, 0, 0],\n",
    "               [1, 1, 0],\n",
    "               [0, 0, 1]])\n",
    "\n",
    "E3 = np.array([[1, 0, 0],\n",
    "               [0, 2/7, 0],\n",
    "               [0, 0, 1]])\n",
    "\n",
    "E4 = np.array([[1, 0, 0],\n",
    "               [0, 1, 0],\n",
    "               [0, -2, 1]])\n",
    "\n",
    "E5 = np.array([[1, -1/2, 0],\n",
    "               [0, 1, 0],\n",
    "               [0, 0, 1]])\n",
    "\n",
    "E6 = np.array([[1, 0, 0],\n",
    "               [0, 1, 0],\n",
    "               [0, 0, 7]])\n",
    "\n",
    "E7 = np.array([[1, 0, 0],\n",
    "                [0, 1, -3/7],\n",
    "                [0, 0, 1]])\n",
    "\n",
    "E8 = np.array([[1, 0, 5/7],\n",
    "                [0, 1, 0],\n",
    "                [0, 0, 1]])\n",
    "\n",
    "# Full product of elementary matrices (order matters!)\n",
    "EA = E8 @ E7 @ E6 @ E5 @ E4 @ E3 @ E2 @ E1 @ A\n",
    "EA"
   ]
  },
  {
   "cell_type": "markdown",
   "metadata": {},
   "source": [
    "# Mencari Inverse"
   ]
  },
  {
   "cell_type": "markdown",
   "metadata": {},
   "source": [
    "## a) Jika invertible"
   ]
  },
  {
   "cell_type": "code",
   "execution_count": 4,
   "metadata": {},
   "outputs": [
    {
     "ename": "NameError",
     "evalue": "name 'inverse_matriks' is not defined",
     "output_type": "error",
     "traceback": [
      "\u001b[1;31m---------------------------------------------------------------------------\u001b[0m",
      "\u001b[1;31mNameError\u001b[0m                                 Traceback (most recent call last)",
      "Cell \u001b[1;32mIn[4], line 2\u001b[0m\n\u001b[0;32m      1\u001b[0m A \u001b[38;5;241m=\u001b[39m np\u001b[38;5;241m.\u001b[39marray([[\u001b[38;5;241m1\u001b[39m,\u001b[38;5;241m2\u001b[39m,\u001b[38;5;241m3\u001b[39m], [\u001b[38;5;241m2\u001b[39m,\u001b[38;5;241m5\u001b[39m,\u001b[38;5;241m3\u001b[39m], [\u001b[38;5;241m1\u001b[39m,\u001b[38;5;241m0\u001b[39m,\u001b[38;5;241m8\u001b[39m]])\n\u001b[1;32m----> 2\u001b[0m \u001b[43minverse_matriks\u001b[49m(A)\n",
      "\u001b[1;31mNameError\u001b[0m: name 'inverse_matriks' is not defined"
     ]
    }
   ],
   "source": [
    "A = np.array([[1,2,3], [2,5,3], [1,0,8]])\n",
    "inverse_matriks(A)"
   ]
  },
  {
   "cell_type": "markdown",
   "metadata": {},
   "source": [
    "## b) Jika Singular"
   ]
  },
  {
   "cell_type": "code",
   "execution_count": null,
   "metadata": {},
   "outputs": [
    {
     "name": "stdout",
     "output_type": "stream",
     "text": [
      "Tidak bisa di inverse karena Singular matrix\n"
     ]
    }
   ],
   "source": [
    "A = np.array([[1,6,4], [2,4,-1], [-1,2,5]])\n",
    "inverse_matriks(A)"
   ]
  },
  {
   "cell_type": "markdown",
   "metadata": {},
   "source": [
    "## c) Menggunakan produk elementer"
   ]
  },
  {
   "cell_type": "code",
   "execution_count": null,
   "metadata": {},
   "outputs": [
    {
     "ename": "NameError",
     "evalue": "name 'np' is not defined",
     "output_type": "error",
     "traceback": [
      "\u001b[1;31m---------------------------------------------------------------------------\u001b[0m",
      "\u001b[1;31mNameError\u001b[0m                                 Traceback (most recent call last)",
      "Cell \u001b[1;32mIn[1], line 1\u001b[0m\n\u001b[1;32m----> 1\u001b[0m A \u001b[38;5;241m=\u001b[39m \u001b[43mnp\u001b[49m\u001b[38;5;241m.\u001b[39marray([[\u001b[38;5;241m1\u001b[39m,\u001b[38;5;241m2\u001b[39m,\u001b[38;5;241m3\u001b[39m], [\u001b[38;5;241m2\u001b[39m,\u001b[38;5;241m5\u001b[39m,\u001b[38;5;241m3\u001b[39m], [\u001b[38;5;241m1\u001b[39m,\u001b[38;5;241m0\u001b[39m,\u001b[38;5;241m8\u001b[39m]])\n\u001b[0;32m      2\u001b[0m E1 \u001b[38;5;241m=\u001b[39m np\u001b[38;5;241m.\u001b[39marray([\n\u001b[0;32m      3\u001b[0m     [\u001b[38;5;241m1\u001b[39m, \u001b[38;5;241m0\u001b[39m, \u001b[38;5;241m0\u001b[39m],\n\u001b[0;32m      4\u001b[0m     [\u001b[38;5;241m-\u001b[39m\u001b[38;5;241m2\u001b[39m, \u001b[38;5;241m1\u001b[39m, \u001b[38;5;241m0\u001b[39m],\n\u001b[0;32m      5\u001b[0m     [\u001b[38;5;241m0\u001b[39m, \u001b[38;5;241m0\u001b[39m, \u001b[38;5;241m1\u001b[39m]\n\u001b[0;32m      6\u001b[0m ], dtype\u001b[38;5;241m=\u001b[39m\u001b[38;5;28mfloat\u001b[39m)\n\u001b[0;32m      8\u001b[0m E2 \u001b[38;5;241m=\u001b[39m np\u001b[38;5;241m.\u001b[39marray([\n\u001b[0;32m      9\u001b[0m     [\u001b[38;5;241m1\u001b[39m, \u001b[38;5;241m0\u001b[39m, \u001b[38;5;241m0\u001b[39m],\n\u001b[0;32m     10\u001b[0m     [\u001b[38;5;241m0\u001b[39m, \u001b[38;5;241m1\u001b[39m, \u001b[38;5;241m0\u001b[39m],\n\u001b[0;32m     11\u001b[0m     [\u001b[38;5;241m-\u001b[39m\u001b[38;5;241m1\u001b[39m, \u001b[38;5;241m0\u001b[39m, \u001b[38;5;241m1\u001b[39m]\n\u001b[0;32m     12\u001b[0m ], dtype\u001b[38;5;241m=\u001b[39m\u001b[38;5;28mfloat\u001b[39m)\n",
      "\u001b[1;31mNameError\u001b[0m: name 'np' is not defined"
     ]
    }
   ],
   "source": [
    "A = np.array([[1,2,3], [2,5,3], [1,0,8]])\n",
    "E1 = np.array([\n",
    "    [1, 0, 0],\n",
    "    [-2, 1, 0],\n",
    "    [0, 0, 1]\n",
    "], dtype=float)\n",
    "\n",
    "E2 = np.array([\n",
    "    [1, 0, 0],\n",
    "    [0, 1, 0],\n",
    "    [-1, 0, 1]\n",
    "], dtype=float)\n",
    "\n",
    "E3 = np.array([\n",
    "    [1, -2, 0],\n",
    "    [0,  1, 0],\n",
    "    [0,  0, 1]\n",
    "], dtype=float)\n",
    "\n",
    "E4 = np.array([\n",
    "    [1, 0, 0],\n",
    "    [0, 1, 0],\n",
    "    [0, 2, 1]\n",
    "], dtype=float)\n",
    "\n",
    "E5 = np.array([\n",
    "    [1, 0, 0],\n",
    "    [0, 1, 0],\n",
    "    [0, 0, -1]\n",
    "], dtype=float)\n",
    "\n",
    "E6 = np.array([\n",
    "    [1, 0, -9],\n",
    "    [0, 1,  0],\n",
    "    [0, 0,  1]\n",
    "], dtype=float)\n",
    "\n",
    "E7 = np.array([\n",
    "    [1, 0, 0],\n",
    "    [0, 1, 3],\n",
    "    [0, 0, 1]\n",
    "], dtype=float)\n",
    "\n",
    "b1 = np.array([\n",
    "    [4],\n",
    "    [5],\n",
    "    [9]\n",
    "], dtype=float)\n",
    "b2 = np.array([\n",
    "    [1],\n",
    "    [6],\n",
    "    [-6]\n",
    "], dtype=float)\n",
    "\n",
    "B = np.hstack((b1, b2))\n",
    "\n",
    "# Example: multiply them to get A^{-1}\n",
    "A_inv = E7 @ E6 @ E5 @ E4 @ E3 @ E2 @ E1 \n",
    "print(A_inv)"
   ]
  },
  {
   "cell_type": "markdown",
   "metadata": {},
   "source": [
    "# **Mencari Solusi dari Sistem Persamaan Linear**"
   ]
  },
  {
   "cell_type": "markdown",
   "metadata": {},
   "source": [
    "$x = A^{-1}B$"
   ]
  },
  {
   "cell_type": "code",
   "execution_count": null,
   "metadata": {},
   "outputs": [
    {
     "name": "stdout",
     "output_type": "stream",
     "text": [
      "[[ 1.  2.]\n",
      " [ 0.  1.]\n",
      " [ 1. -1.]]\n"
     ]
    }
   ],
   "source": [
    "print(A_inv @ B)"
   ]
  }
 ],
 "metadata": {
  "kernelspec": {
   "display_name": "Python 3",
   "language": "python",
   "name": "python3"
  },
  "language_info": {
   "codemirror_mode": {
    "name": "ipython",
    "version": 3
   },
   "file_extension": ".py",
   "mimetype": "text/x-python",
   "name": "python",
   "nbconvert_exporter": "python",
   "pygments_lexer": "ipython3",
   "version": "3.12.3"
  }
 },
 "nbformat": 4,
 "nbformat_minor": 2
}
