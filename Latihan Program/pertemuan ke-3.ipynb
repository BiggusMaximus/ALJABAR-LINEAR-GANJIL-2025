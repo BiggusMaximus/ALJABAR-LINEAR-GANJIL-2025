{
 "cells": [
  {
   "cell_type": "code",
   "execution_count": 6,
   "metadata": {},
   "outputs": [],
   "source": [
    "import numpy as np\n",
    "import sympy as sp\n",
    "import matplotlib.pyplot as plt\n",
    "\n",
    "%matplotlib widget"
   ]
  },
  {
   "cell_type": "code",
   "execution_count": 11,
   "metadata": {},
   "outputs": [],
   "source": [
    "\n",
    "def show_equations(A, b):\n",
    "    \"\"\"\n",
    "    Display the system Ax = b as symbolic equations using SymPy.\n",
    "    \"\"\"\n",
    "    n, m = A.shape\n",
    "    x = sp.symbols(f'x1:{m+1}')  # creates (x1, x2, ..., xm)\n",
    "    equations = []\n",
    "\n",
    "    for i in range(n):\n",
    "        lhs = sum(A[i, j] * x[j] for j in range(m))\n",
    "        rhs = b[i, 0]\n",
    "        equations.append(sp.Eq(lhs, rhs))\n",
    "\n",
    "    print(\"System of equations:\")\n",
    "    for eq in equations:\n",
    "        display(eq)\n",
    "\n",
    "    A = sp.Matrix(A)\n",
    "    b = sp.Matrix(b)\n",
    "\n",
    "    # Build augmented matrix\n",
    "    Ab = A.row_join(b)\n",
    "\n",
    "    print(\"Augmented matrix form [A | b]:\")\n",
    "    display(Ab)\n",
    "\n",
    "def show_matrix(A):\n",
    "    \"\"\"\n",
    "    Display the system Ax = b as symbolic equations using SymPy.\n",
    "    \"\"\"\n",
    "    n, m = A.shape\n",
    "    A = sp.Matrix(A)\n",
    "\n",
    "    display(A)\n",
    "\n",
    "def inverse_matrix(A):\n",
    "    has_inverse = np.linalg.det(A)\n",
    "    if has_inverse:\n",
    "        return np.linalg.inv(A)\n",
    "    else:\n",
    "        return \"Matrix is singular and does not have an inverse.\""
   ]
  },
  {
   "cell_type": "markdown",
   "metadata": {},
   "source": [
    "# **Matriks sebagai hasil dari Multiplikasi Produk Elementer**"
   ]
  },
  {
   "cell_type": "code",
   "execution_count": 8,
   "metadata": {},
   "outputs": [
    {
     "data": {
      "text/plain": [
       "array([[1., 0., 0.],\n",
       "       [0., 1., 0.],\n",
       "       [0., 0., 1.]])"
      ]
     },
     "execution_count": 8,
     "metadata": {},
     "output_type": "execute_result"
    }
   ],
   "source": [
    "\n",
    "# Original matrix A\n",
    "A = np.array([[2, 1, -1],\n",
    "              [-1, 3, 2],\n",
    "              [0, 2, 1]], dtype=float)\n",
    "\n",
    "# Elementary matrices\n",
    "E1 = np.array([[1/2, 0, 0],\n",
    "               [0, 1, 0],\n",
    "               [0, 0, 1]])\n",
    "\n",
    "E2 = np.array([[1, 0, 0],\n",
    "               [1, 1, 0],\n",
    "               [0, 0, 1]])\n",
    "\n",
    "E3 = np.array([[1, 0, 0],\n",
    "               [0, 2/7, 0],\n",
    "               [0, 0, 1]])\n",
    "\n",
    "E4 = np.array([[1, 0, 0],\n",
    "               [0, 1, 0],\n",
    "               [0, -2, 1]])\n",
    "\n",
    "E5 = np.array([[1, -1/2, 0],\n",
    "               [0, 1, 0],\n",
    "               [0, 0, 1]])\n",
    "\n",
    "E6 = np.array([[1, 0, 0],\n",
    "               [0, 1, 0],\n",
    "               [0, 0, 7]])\n",
    "\n",
    "E7 = np.array([[1, 0, 0],\n",
    "                [0, 1, -3/7],\n",
    "                [0, 0, 1]])\n",
    "\n",
    "E8 = np.array([[1, 0, 5/7],\n",
    "                [0, 1, 0],\n",
    "                [0, 0, 1]])\n",
    "\n",
    "# Full product of elementary matrices (order matters!)\n",
    "EA = E8 @ E7 @ E6 @ E5 @ E4 @ E3 @ E2 @ E1 @ A\n",
    "EA"
   ]
  },
  {
   "cell_type": "markdown",
   "metadata": {},
   "source": [
    "# Mencari Inverse"
   ]
  },
  {
   "cell_type": "markdown",
   "metadata": {},
   "source": [
    "## a) Jika invertible"
   ]
  },
  {
   "cell_type": "code",
   "execution_count": 12,
   "metadata": {},
   "outputs": [
    {
     "data": {
      "text/plain": [
       "array([[-40.,  16.,   9.],\n",
       "       [ 13.,  -5.,  -3.],\n",
       "       [  5.,  -2.,  -1.]])"
      ]
     },
     "execution_count": 12,
     "metadata": {},
     "output_type": "execute_result"
    }
   ],
   "source": [
    "A = np.array([[1,2,3], [2,5,3], [1,0,8]])\n",
    "inverse_matrix(A)"
   ]
  },
  {
   "cell_type": "markdown",
   "metadata": {},
   "source": [
    "## b) Jika Singular"
   ]
  },
  {
   "cell_type": "code",
   "execution_count": 14,
   "metadata": {},
   "outputs": [
    {
     "data": {
      "text/plain": [
       "'Matrix is singular and does not have an inverse.'"
      ]
     },
     "execution_count": 14,
     "metadata": {},
     "output_type": "execute_result"
    }
   ],
   "source": [
    "A = np.array([[1,6,4], [2,4,-1], [-1,2,5]])\n",
    "inverse_matrix(A)"
   ]
  },
  {
   "cell_type": "markdown",
   "metadata": {},
   "source": [
    "## c) Menggunakan produk elementer"
   ]
  },
  {
   "cell_type": "code",
   "execution_count": 15,
   "metadata": {},
   "outputs": [
    {
     "name": "stdout",
     "output_type": "stream",
     "text": [
      "[[-40.  16.   9.]\n",
      " [ 13.  -5.  -3.]\n",
      " [  5.  -2.  -1.]]\n"
     ]
    }
   ],
   "source": [
    "A = np.array([[1,2,3], [2,5,3], [1,0,8]])\n",
    "E1 = np.array([\n",
    "    [1, 0, 0],\n",
    "    [-2, 1, 0],\n",
    "    [0, 0, 1]\n",
    "], dtype=float)\n",
    "\n",
    "E2 = np.array([\n",
    "    [1, 0, 0],\n",
    "    [0, 1, 0],\n",
    "    [-1, 0, 1]\n",
    "], dtype=float)\n",
    "\n",
    "E3 = np.array([\n",
    "    [1, -2, 0],\n",
    "    [0,  1, 0],\n",
    "    [0,  0, 1]\n",
    "], dtype=float)\n",
    "\n",
    "E4 = np.array([\n",
    "    [1, 0, 0],\n",
    "    [0, 1, 0],\n",
    "    [0, 2, 1]\n",
    "], dtype=float)\n",
    "\n",
    "E5 = np.array([\n",
    "    [1, 0, 0],\n",
    "    [0, 1, 0],\n",
    "    [0, 0, -1]\n",
    "], dtype=float)\n",
    "\n",
    "E6 = np.array([\n",
    "    [1, 0, -9],\n",
    "    [0, 1,  0],\n",
    "    [0, 0,  1]\n",
    "], dtype=float)\n",
    "\n",
    "E7 = np.array([\n",
    "    [1, 0, 0],\n",
    "    [0, 1, 3],\n",
    "    [0, 0, 1]\n",
    "], dtype=float)\n",
    "\n",
    "b1 = np.array([\n",
    "    [4],\n",
    "    [5],\n",
    "    [9]\n",
    "], dtype=float)\n",
    "b2 = np.array([\n",
    "    [1],\n",
    "    [6],\n",
    "    [-6]\n",
    "], dtype=float)\n",
    "\n",
    "B = np.hstack((b1, b2))\n",
    "\n",
    "# Example: multiply them to get A^{-1}\n",
    "A_inv = E7 @ E6 @ E5 @ E4 @ E3 @ E2 @ E1 \n",
    "print(A_inv)"
   ]
  },
  {
   "cell_type": "markdown",
   "metadata": {},
   "source": [
    "# **Mencari Solusi dari Sistem Persamaan Linear**"
   ]
  },
  {
   "cell_type": "markdown",
   "metadata": {},
   "source": [
    "$x = A^{-1}B$"
   ]
  },
  {
   "cell_type": "code",
   "execution_count": 16,
   "metadata": {},
   "outputs": [
    {
     "name": "stdout",
     "output_type": "stream",
     "text": [
      "[[ 1.  2.]\n",
      " [ 0.  1.]\n",
      " [ 1. -1.]]\n"
     ]
    }
   ],
   "source": [
    "print(A_inv @ B)"
   ]
  },
  {
   "cell_type": "code",
   "execution_count": 38,
   "metadata": {},
   "outputs": [
    {
     "name": "stdout",
     "output_type": "stream",
     "text": [
      "[[-0.55555556 -0.11111111 -0.11111111]\n",
      " [ 0.11111111 -0.77777778  0.22222222]\n",
      " [-0.11111111 -0.22222222 -0.22222222]]\n",
      "\n",
      "x: [[-3.         -2.77777778 -2.77777778 -2.55555556]\n",
      " [-4.         -4.44444444 -4.44444444 -4.88888889]\n",
      " [-2.         -2.55555556 -3.55555556 -4.11111111]]\n"
     ]
    }
   ],
   "source": [
    "A = np.array(\n",
    "    [\n",
    "        [-2,  0,  1],\n",
    "        [ 0, -1, -1],\n",
    "        [ 1,  1, -4]\n",
    "    ]\n",
    ")\n",
    "\n",
    "A_inv = inverse_matrix(A)\n",
    "print(A_inv)\n",
    "print()\n",
    "\n",
    "b = np.array([\n",
    "    [4, 3, 2, 1],\n",
    "    [6, 7, 8, 9],\n",
    "    [1, 3, 7, 9],\n",
    "])\n",
    "print(f\"x: {A_inv @ b}\")\n"
   ]
  },
  {
   "cell_type": "code",
   "execution_count": 50,
   "metadata": {},
   "outputs": [
    {
     "data": {
      "text/plain": [
       "array([[-216,    0,    0],\n",
       "       [   0,   27,    0],\n",
       "       [   0,    0,  125]])"
      ]
     },
     "execution_count": 50,
     "metadata": {},
     "output_type": "execute_result"
    }
   ],
   "source": [
    "A = np.array(\n",
    "    [\n",
    "        [-6,  0,  0],\n",
    "        [ 0,  3,  0],\n",
    "        [ 0,  0,  5]\n",
    "    ]\n",
    ")\n",
    "A @ A @ A"
   ]
  },
  {
   "cell_type": "code",
   "execution_count": 47,
   "metadata": {},
   "outputs": [
    {
     "data": {
      "text/plain": [
       "2.7777777777777777"
      ]
     },
     "execution_count": 47,
     "metadata": {},
     "output_type": "execute_result"
    }
   ],
   "source": [
    "25/9"
   ]
  },
  {
   "cell_type": "code",
   "execution_count": null,
   "metadata": {},
   "outputs": [],
   "source": []
  }
 ],
 "metadata": {
  "kernelspec": {
   "display_name": "Python 3",
   "language": "python",
   "name": "python3"
  },
  "language_info": {
   "codemirror_mode": {
    "name": "ipython",
    "version": 3
   },
   "file_extension": ".py",
   "mimetype": "text/x-python",
   "name": "python",
   "nbconvert_exporter": "python",
   "pygments_lexer": "ipython3",
   "version": "3.12.3"
  }
 },
 "nbformat": 4,
 "nbformat_minor": 2
}
