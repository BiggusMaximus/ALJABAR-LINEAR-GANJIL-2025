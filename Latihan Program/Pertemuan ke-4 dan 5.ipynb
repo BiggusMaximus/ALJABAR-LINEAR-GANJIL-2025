{
 "cells": [
  {
   "cell_type": "code",
   "execution_count": 2,
   "metadata": {},
   "outputs": [],
   "source": [
    "import sympy as sp"
   ]
  },
  {
   "cell_type": "code",
   "execution_count": 5,
   "metadata": {},
   "outputs": [
    {
     "name": "stdout",
     "output_type": "stream",
     "text": [
      "Matrix M:\n"
     ]
    },
    {
     "data": {
      "text/latex": [
       "$\\displaystyle \\left[\\begin{matrix}2 & -1 & 0\\\\1 & 3 & 2\\\\0 & -2 & 1\\end{matrix}\\right]$"
      ],
      "text/plain": [
       "Matrix([\n",
       "[2, -1, 0],\n",
       "[1,  3, 2],\n",
       "[0, -2, 1]])"
      ]
     },
     "metadata": {},
     "output_type": "display_data"
    }
   ],
   "source": [
    "M = sp.Matrix([\n",
    "    [2, -1, 0],\n",
    "    [1,  3, 2],\n",
    "    [0, -2, 1]\n",
    "])\n",
    "\n",
    "print(\"Matrix M:\")\n",
    "display(M)"
   ]
  },
  {
   "cell_type": "code",
   "execution_count": 10,
   "metadata": {},
   "outputs": [],
   "source": [
    "def cofactor_expansion_stepwise(M: sp.Matrix, expand_row: int = 0, depth: int = 0):\n",
    "    \"\"\"\n",
    "    Recursively compute det(M) by cofactor expansion along `expand_row`,\n",
    "    printing each step with indentation according to recursion depth.\n",
    "    Returns a SymPy expression for the determinant.\n",
    "    \"\"\"\n",
    "    indent = \"    \" * depth\n",
    "    n = M.rows\n",
    "\n",
    "    # Print the matrix at this level\n",
    "    print(f\"{indent}{n}x{n} matrix (expanding along row {expand_row}):\")\n",
    "    display(M)\n",
    "    print()\n",
    "\n",
    "    # Base cases\n",
    "    if n == 1:\n",
    "        val = M[0, 0]\n",
    "        print(f\"{indent}Base case: 1x1, det = {val}\\n\")\n",
    "        display(val)\n",
    "        return sp.simplify(val)\n",
    "\n",
    "    if n == 2:\n",
    "        det2 = sp.simplify(M[0,0]*M[1,1] - M[0,1]*M[1,0])\n",
    "        print(f\"{indent}Base case: 2x2, det = {det2}\\n\")\n",
    "        return det2\n",
    "\n",
    "    total = sp.Integer(0)\n",
    "    # Expand along the specified row\n",
    "    for j in range(n):\n",
    "        a = M[expand_row, j]\n",
    "        sign = sp.Integer((-1) ** (expand_row + j))\n",
    "        minor = M.minor_submatrix(expand_row, j)\n",
    "\n",
    "        print(f\"{indent}Element a[{expand_row},{j}] =\")\n",
    "        sp.pprint(a)\n",
    "        print(f\"{indent}Sign = (-1)^{expand_row + j} = {sign}\")\n",
    "        print(f\"{indent}Minor (remove row {expand_row}, col {j}):\")\n",
    "        sp.pprint(minor)\n",
    "        print()\n",
    "\n",
    "        # Recursive call: expand minor along its first row (0)\n",
    "        minor_det = cofactor_expansion_stepwise(minor, expand_row=0, depth=depth + 1)\n",
    "\n",
    "        term = sp.simplify(sign * a * minor_det)\n",
    "        print(f\"{indent}Term = {sign} * {a} * det(minor) =\")\n",
    "        sp.pprint(term)\n",
    "        total = sp.simplify(total + term)\n",
    "        print(f\"{indent}Partial sum =\")\n",
    "        sp.pprint(total)\n",
    "        print(\"\\n\" + (indent + \"-\"*40) + \"\\n\")\n",
    "\n",
    "    print(f\"{indent}Result at depth {depth}: det =\")\n",
    "    sp.pprint(total)\n",
    "    print()\n",
    "    return total"
   ]
  },
  {
   "cell_type": "code",
   "execution_count": 12,
   "metadata": {},
   "outputs": [
    {
     "name": "stdout",
     "output_type": "stream",
     "text": [
      "\n",
      ">>> Step-by-step cofactor expansion:\n",
      "\n",
      "3x3 matrix (expanding along row 0):\n"
     ]
    },
    {
     "data": {
      "text/latex": [
       "$\\displaystyle \\left[\\begin{matrix}2 & -1 & 0\\\\1 & 3 & 2\\\\0 & -2 & 1\\end{matrix}\\right]$"
      ],
      "text/plain": [
       "Matrix([\n",
       "[2, -1, 0],\n",
       "[1,  3, 2],\n",
       "[0, -2, 1]])"
      ]
     },
     "metadata": {},
     "output_type": "display_data"
    },
    {
     "name": "stdout",
     "output_type": "stream",
     "text": [
      "Element a[0,0] =\n"
     ]
    },
    {
     "data": {
      "text/latex": [
       "$\\displaystyle 2$"
      ],
      "text/plain": [
       "2"
      ]
     },
     "metadata": {},
     "output_type": "display_data"
    },
    {
     "name": "stdout",
     "output_type": "stream",
     "text": [
      "Sign = (-1)^0 = 1\n",
      "Minor (remove row 0, col 0):\n"
     ]
    },
    {
     "data": {
      "text/latex": [
       "$\\displaystyle \\left[\\begin{matrix}3 & 2\\\\-2 & 1\\end{matrix}\\right]$"
      ],
      "text/plain": [
       "Matrix([\n",
       "[ 3, 2],\n",
       "[-2, 1]])"
      ]
     },
     "metadata": {},
     "output_type": "display_data"
    },
    {
     "name": "stdout",
     "output_type": "stream",
     "text": [
      "    2x2 matrix (expanding along row 0):\n"
     ]
    },
    {
     "data": {
      "text/latex": [
       "$\\displaystyle \\left[\\begin{matrix}3 & 2\\\\-2 & 1\\end{matrix}\\right]$"
      ],
      "text/plain": [
       "Matrix([\n",
       "[ 3, 2],\n",
       "[-2, 1]])"
      ]
     },
     "metadata": {},
     "output_type": "display_data"
    },
    {
     "name": "stdout",
     "output_type": "stream",
     "text": [
      "    Base case: 2x2, det =\n"
     ]
    },
    {
     "data": {
      "text/latex": [
       "$\\displaystyle 7$"
      ],
      "text/plain": [
       "7"
      ]
     },
     "metadata": {},
     "output_type": "display_data"
    },
    {
     "name": "stdout",
     "output_type": "stream",
     "text": [
      "Term = 1 * 2 * det(minor) =\n"
     ]
    },
    {
     "data": {
      "text/latex": [
       "$\\displaystyle 14$"
      ],
      "text/plain": [
       "14"
      ]
     },
     "metadata": {},
     "output_type": "display_data"
    },
    {
     "name": "stdout",
     "output_type": "stream",
     "text": [
      "Partial sum =\n"
     ]
    },
    {
     "data": {
      "text/latex": [
       "$\\displaystyle 14$"
      ],
      "text/plain": [
       "14"
      ]
     },
     "metadata": {},
     "output_type": "display_data"
    },
    {
     "name": "stdout",
     "output_type": "stream",
     "text": [
      "\n",
      "----------------------------------------\n",
      "\n",
      "Element a[0,1] =\n"
     ]
    },
    {
     "data": {
      "text/latex": [
       "$\\displaystyle -1$"
      ],
      "text/plain": [
       "-1"
      ]
     },
     "metadata": {},
     "output_type": "display_data"
    },
    {
     "name": "stdout",
     "output_type": "stream",
     "text": [
      "Sign = (-1)^1 = -1\n",
      "Minor (remove row 0, col 1):\n"
     ]
    },
    {
     "data": {
      "text/latex": [
       "$\\displaystyle \\left[\\begin{matrix}1 & 2\\\\0 & 1\\end{matrix}\\right]$"
      ],
      "text/plain": [
       "Matrix([\n",
       "[1, 2],\n",
       "[0, 1]])"
      ]
     },
     "metadata": {},
     "output_type": "display_data"
    },
    {
     "name": "stdout",
     "output_type": "stream",
     "text": [
      "    2x2 matrix (expanding along row 0):\n"
     ]
    },
    {
     "data": {
      "text/latex": [
       "$\\displaystyle \\left[\\begin{matrix}1 & 2\\\\0 & 1\\end{matrix}\\right]$"
      ],
      "text/plain": [
       "Matrix([\n",
       "[1, 2],\n",
       "[0, 1]])"
      ]
     },
     "metadata": {},
     "output_type": "display_data"
    },
    {
     "name": "stdout",
     "output_type": "stream",
     "text": [
      "    Base case: 2x2, det =\n"
     ]
    },
    {
     "data": {
      "text/latex": [
       "$\\displaystyle 1$"
      ],
      "text/plain": [
       "1"
      ]
     },
     "metadata": {},
     "output_type": "display_data"
    },
    {
     "name": "stdout",
     "output_type": "stream",
     "text": [
      "Term = -1 * -1 * det(minor) =\n"
     ]
    },
    {
     "data": {
      "text/latex": [
       "$\\displaystyle 1$"
      ],
      "text/plain": [
       "1"
      ]
     },
     "metadata": {},
     "output_type": "display_data"
    },
    {
     "name": "stdout",
     "output_type": "stream",
     "text": [
      "Partial sum =\n"
     ]
    },
    {
     "data": {
      "text/latex": [
       "$\\displaystyle 15$"
      ],
      "text/plain": [
       "15"
      ]
     },
     "metadata": {},
     "output_type": "display_data"
    },
    {
     "name": "stdout",
     "output_type": "stream",
     "text": [
      "\n",
      "----------------------------------------\n",
      "\n",
      "Element a[0,2] =\n"
     ]
    },
    {
     "data": {
      "text/latex": [
       "$\\displaystyle 0$"
      ],
      "text/plain": [
       "0"
      ]
     },
     "metadata": {},
     "output_type": "display_data"
    },
    {
     "name": "stdout",
     "output_type": "stream",
     "text": [
      "Sign = (-1)^2 = 1\n",
      "Minor (remove row 0, col 2):\n"
     ]
    },
    {
     "data": {
      "text/latex": [
       "$\\displaystyle \\left[\\begin{matrix}1 & 3\\\\0 & -2\\end{matrix}\\right]$"
      ],
      "text/plain": [
       "Matrix([\n",
       "[1,  3],\n",
       "[0, -2]])"
      ]
     },
     "metadata": {},
     "output_type": "display_data"
    },
    {
     "name": "stdout",
     "output_type": "stream",
     "text": [
      "    2x2 matrix (expanding along row 0):\n"
     ]
    },
    {
     "data": {
      "text/latex": [
       "$\\displaystyle \\left[\\begin{matrix}1 & 3\\\\0 & -2\\end{matrix}\\right]$"
      ],
      "text/plain": [
       "Matrix([\n",
       "[1,  3],\n",
       "[0, -2]])"
      ]
     },
     "metadata": {},
     "output_type": "display_data"
    },
    {
     "name": "stdout",
     "output_type": "stream",
     "text": [
      "    Base case: 2x2, det =\n"
     ]
    },
    {
     "data": {
      "text/latex": [
       "$\\displaystyle -2$"
      ],
      "text/plain": [
       "-2"
      ]
     },
     "metadata": {},
     "output_type": "display_data"
    },
    {
     "name": "stdout",
     "output_type": "stream",
     "text": [
      "Term = 1 * 0 * det(minor) =\n"
     ]
    },
    {
     "data": {
      "text/latex": [
       "$\\displaystyle 0$"
      ],
      "text/plain": [
       "0"
      ]
     },
     "metadata": {},
     "output_type": "display_data"
    },
    {
     "name": "stdout",
     "output_type": "stream",
     "text": [
      "Partial sum =\n"
     ]
    },
    {
     "data": {
      "text/latex": [
       "$\\displaystyle 15$"
      ],
      "text/plain": [
       "15"
      ]
     },
     "metadata": {},
     "output_type": "display_data"
    },
    {
     "name": "stdout",
     "output_type": "stream",
     "text": [
      "\n",
      "----------------------------------------\n",
      "\n",
      "Result at depth 0: det =\n"
     ]
    },
    {
     "data": {
      "text/latex": [
       "$\\displaystyle 15$"
      ],
      "text/plain": [
       "15"
      ]
     },
     "metadata": {},
     "output_type": "display_data"
    },
    {
     "name": "stdout",
     "output_type": "stream",
     "text": [
      "Final determinant expression:\n"
     ]
    },
    {
     "data": {
      "text/latex": [
       "$\\displaystyle 15$"
      ],
      "text/plain": [
       "15"
      ]
     },
     "metadata": {},
     "output_type": "display_data"
    },
    {
     "name": "stdout",
     "output_type": "stream",
     "text": [
      "Check with sympy's built-in det(): 15\n"
     ]
    }
   ],
   "source": [
    "\n",
    "def cofactor_expansion_stepwise(M: sp.Matrix, expand_row: int = 0, depth: int = 0):\n",
    "    \"\"\"\n",
    "    Recursively compute det(M) by cofactor expansion along `expand_row`,\n",
    "    displaying each step with indentation according to recursion depth.\n",
    "    Returns a SymPy expression for the determinant.\n",
    "    \"\"\"\n",
    "    indent = \"    \" * depth\n",
    "    n = M.rows\n",
    "\n",
    "    # Show the matrix at this level\n",
    "    print(f\"{indent}{n}x{n} matrix (expanding along row {expand_row}):\")\n",
    "    display(M)\n",
    "\n",
    "    # Base cases\n",
    "    if n == 1:\n",
    "        val = M[0, 0]\n",
    "        print(f\"{indent}Base case: 1x1, det =\")\n",
    "        display(val)\n",
    "        return sp.simplify(val)\n",
    "\n",
    "    if n == 2:\n",
    "        det2 = sp.simplify(M[0,0]*M[1,1] - M[0,1]*M[1,0])\n",
    "        print(f\"{indent}Base case: 2x2, det =\")\n",
    "        display(det2)\n",
    "        return det2\n",
    "\n",
    "    total = sp.Integer(0)\n",
    "    # Expand along the specified row\n",
    "    for j in range(n):\n",
    "        a = M[expand_row, j]\n",
    "        sign = sp.Integer((-1) ** (expand_row + j))\n",
    "        minor = M.minor_submatrix(expand_row, j)\n",
    "\n",
    "        print(f\"{indent}Element a[{expand_row},{j}] =\")\n",
    "        display(a)\n",
    "        print(f\"{indent}Sign = (-1)^{expand_row + j} = {sign}\")\n",
    "        print(f\"{indent}Minor (remove row {expand_row}, col {j}):\")\n",
    "        display(minor)\n",
    "\n",
    "        # Recursive call: expand minor along its first row (0)\n",
    "        minor_det = cofactor_expansion_stepwise(minor, expand_row=0, depth=depth + 1)\n",
    "\n",
    "        term = sp.simplify(sign * a * minor_det)\n",
    "        print(f\"{indent}Term = {sign} * {a} * det(minor) =\")\n",
    "        display(term)\n",
    "        total = sp.simplify(total + term)\n",
    "        print(f\"{indent}Partial sum =\")\n",
    "        display(total)\n",
    "        print(\"\\n\" + (indent + \"-\"*40) + \"\\n\")\n",
    "\n",
    "    print(f\"{indent}Result at depth {depth}: det =\")\n",
    "    display(total)\n",
    "    return total\n",
    "\n",
    "\n",
    "# Example usage in Jupyter\n",
    "M = sp.Matrix([\n",
    "    [2, -1, 0],\n",
    "    [1,  3, 2],\n",
    "    [0, -2, 1]\n",
    "])\n",
    "\n",
    "print(\"\\n>>> Step-by-step cofactor expansion:\\n\")\n",
    "det_expr = cofactor_expansion_stepwise(M, expand_row=0)\n",
    "print(\"Final determinant expression:\")\n",
    "display(det_expr)\n",
    "print(\"Check with sympy's built-in det():\", M.det())\n"
   ]
  },
  {
   "cell_type": "code",
   "execution_count": null,
   "metadata": {},
   "outputs": [],
   "source": []
  }
 ],
 "metadata": {
  "kernelspec": {
   "display_name": "Python 3",
   "language": "python",
   "name": "python3"
  },
  "language_info": {
   "codemirror_mode": {
    "name": "ipython",
    "version": 3
   },
   "file_extension": ".py",
   "mimetype": "text/x-python",
   "name": "python",
   "nbconvert_exporter": "python",
   "pygments_lexer": "ipython3",
   "version": "3.12.3"
  }
 },
 "nbformat": 4,
 "nbformat_minor": 2
}
