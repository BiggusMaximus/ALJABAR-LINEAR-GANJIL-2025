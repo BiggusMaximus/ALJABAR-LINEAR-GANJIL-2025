{
 "cells": [
  {
   "cell_type": "markdown",
   "metadata": {},
   "source": [
    "# **Import Libraries**"
   ]
  },
  {
   "cell_type": "code",
   "execution_count": 18,
   "metadata": {},
   "outputs": [],
   "source": [
    "import numpy as np\n",
    "import sympy as sp\n",
    "import matplotlib.pyplot as plt\n",
    "\n",
    "%matplotlib widget"
   ]
  },
  {
   "cell_type": "markdown",
   "metadata": {},
   "source": [
    "# **Utils**"
   ]
  },
  {
   "cell_type": "code",
   "execution_count": 30,
   "metadata": {},
   "outputs": [],
   "source": [
    "\n",
    "def show_equations(A, b):\n",
    "    \"\"\"\n",
    "    Display the system Ax = b as symbolic equations using SymPy.\n",
    "    \"\"\"\n",
    "    n, m = A.shape\n",
    "    x = sp.symbols(f'x1:{m+1}')  # creates (x1, x2, ..., xm)\n",
    "    equations = []\n",
    "\n",
    "    for i in range(n):\n",
    "        lhs = sum(A[i, j] * x[j] for j in range(m))\n",
    "        rhs = b[i, 0]\n",
    "        equations.append(sp.Eq(lhs, rhs))\n",
    "\n",
    "    print(\"System of equations:\")\n",
    "    for eq in equations:\n",
    "        display(eq)\n",
    "\n",
    "    A = sp.Matrix(A)\n",
    "    b = sp.Matrix(b)\n",
    "\n",
    "    # Build augmented matrix\n",
    "    Ab = A.row_join(b)\n",
    "\n",
    "    print(\"Augmented matrix form [A | b]:\")\n",
    "    display(Ab)\n",
    "\n",
    "def show_matrix(A):\n",
    "    \"\"\"\n",
    "    Display the system Ax = b as symbolic equations using SymPy.\n",
    "    \"\"\"\n",
    "    n, m = A.shape\n",
    "    A = sp.Matrix(A)\n",
    "\n",
    "    display(A)\n",
    "\n",
    "def inverse_matrix(A):\n",
    "    has_inverse = np.linalg.det(A)\n",
    "    if has_inverse:\n",
    "        return np.linalg.inv(A)\n",
    "    else:\n",
    "        return \"Matrix is singular and does not have an inverse.\""
   ]
  },
  {
   "cell_type": "code",
   "execution_count": 31,
   "metadata": {},
   "outputs": [
    {
     "data": {
      "text/latex": [
       "$\\displaystyle \\left[\\begin{matrix}1 & 2\\\\3 & 4\\end{matrix}\\right]$"
      ],
      "text/plain": [
       "Matrix([\n",
       "[1, 2],\n",
       "[3, 4]])"
      ]
     },
     "metadata": {},
     "output_type": "display_data"
    },
    {
     "data": {
      "text/latex": [
       "$\\displaystyle \\left[\\begin{matrix}5 & 6\\\\7 & 8\\end{matrix}\\right]$"
      ],
      "text/plain": [
       "Matrix([\n",
       "[5, 6],\n",
       "[7, 8]])"
      ]
     },
     "metadata": {},
     "output_type": "display_data"
    }
   ],
   "source": [
    "A = np.array([[1, 2], [3, 4]])\n",
    "B = np.array([[5, 6], [7, 8]])\n",
    "\n",
    "show_matrix(A)\n",
    "show_matrix(B)"
   ]
  },
  {
   "cell_type": "markdown",
   "metadata": {},
   "source": [
    "# **Pertambahan**"
   ]
  },
  {
   "cell_type": "code",
   "execution_count": 32,
   "metadata": {},
   "outputs": [
    {
     "data": {
      "text/latex": [
       "$\\displaystyle \\left[\\begin{matrix}6 & 8\\\\10 & 12\\end{matrix}\\right]$"
      ],
      "text/plain": [
       "Matrix([\n",
       "[ 6,  8],\n",
       "[10, 12]])"
      ]
     },
     "metadata": {},
     "output_type": "display_data"
    }
   ],
   "source": [
    "addition = A + B \n",
    "show_matrix(addition)"
   ]
  },
  {
   "cell_type": "markdown",
   "metadata": {},
   "source": [
    "# **Pengurangan**"
   ]
  },
  {
   "cell_type": "code",
   "execution_count": 33,
   "metadata": {},
   "outputs": [
    {
     "data": {
      "text/latex": [
       "$\\displaystyle \\left[\\begin{matrix}-4 & -4\\\\-4 & -4\\end{matrix}\\right]$"
      ],
      "text/plain": [
       "Matrix([\n",
       "[-4, -4],\n",
       "[-4, -4]])"
      ]
     },
     "metadata": {},
     "output_type": "display_data"
    }
   ],
   "source": [
    "substraction = A - B\n",
    "show_matrix(substraction)"
   ]
  },
  {
   "cell_type": "markdown",
   "metadata": {},
   "source": [
    "# **Multiplikasi Skalar**"
   ]
  },
  {
   "cell_type": "code",
   "execution_count": 34,
   "metadata": {},
   "outputs": [
    {
     "name": "stdout",
     "output_type": "stream",
     "text": [
      "Matriks A:\n"
     ]
    },
    {
     "data": {
      "text/latex": [
       "$\\displaystyle \\left[\\begin{matrix}1 & 2\\\\3 & 4\\end{matrix}\\right]$"
      ],
      "text/plain": [
       "Matrix([\n",
       "[1, 2],\n",
       "[3, 4]])"
      ]
     },
     "metadata": {},
     "output_type": "display_data"
    },
    {
     "name": "stdout",
     "output_type": "stream",
     "text": [
      "Hasil\n"
     ]
    },
    {
     "data": {
      "text/latex": [
       "$\\displaystyle \\left[\\begin{matrix}5 & 10\\\\15 & 20\\end{matrix}\\right]$"
      ],
      "text/plain": [
       "Matrix([\n",
       "[ 5, 10],\n",
       "[15, 20]])"
      ]
     },
     "metadata": {},
     "output_type": "display_data"
    }
   ],
   "source": [
    "c = 5\n",
    "scalar_multiplication = c * A\n",
    "\n",
    "print(\"Matriks A:\")\n",
    "show_matrix(A)\n",
    "\n",
    "print(\"Hasil\")\n",
    "show_matrix(scalar_multiplication)"
   ]
  },
  {
   "cell_type": "markdown",
   "metadata": {},
   "source": [
    "# **Multiplikasi Matrix**"
   ]
  },
  {
   "cell_type": "code",
   "execution_count": 35,
   "metadata": {},
   "outputs": [
    {
     "name": "stdout",
     "output_type": "stream",
     "text": [
      "Matriks A:\n"
     ]
    },
    {
     "data": {
      "text/latex": [
       "$\\displaystyle \\left[\\begin{matrix}1 & 2\\\\3 & 4\\end{matrix}\\right]$"
      ],
      "text/plain": [
       "Matrix([\n",
       "[1, 2],\n",
       "[3, 4]])"
      ]
     },
     "metadata": {},
     "output_type": "display_data"
    },
    {
     "name": "stdout",
     "output_type": "stream",
     "text": [
      "Matriks B:\n"
     ]
    },
    {
     "data": {
      "text/latex": [
       "$\\displaystyle \\left[\\begin{matrix}5 & 6\\\\7 & 8\\end{matrix}\\right]$"
      ],
      "text/plain": [
       "Matrix([\n",
       "[5, 6],\n",
       "[7, 8]])"
      ]
     },
     "metadata": {},
     "output_type": "display_data"
    },
    {
     "name": "stdout",
     "output_type": "stream",
     "text": [
      "Hasil\n"
     ]
    },
    {
     "data": {
      "text/latex": [
       "$\\displaystyle \\left[\\begin{matrix}19 & 22\\\\43 & 50\\end{matrix}\\right]$"
      ],
      "text/plain": [
       "Matrix([\n",
       "[19, 22],\n",
       "[43, 50]])"
      ]
     },
     "metadata": {},
     "output_type": "display_data"
    }
   ],
   "source": [
    "matrix_multiplication = A @ B\n",
    "\n",
    "print(\"Matriks A:\")\n",
    "show_matrix(A)\n",
    "print(\"Matriks B:\")\n",
    "show_matrix(B)\n",
    "\n",
    "print(\"Hasil\")\n",
    "show_matrix(matrix_multiplication)"
   ]
  },
  {
   "cell_type": "markdown",
   "metadata": {},
   "source": [
    "# **Inverse Matrix**"
   ]
  },
  {
   "cell_type": "code",
   "execution_count": 37,
   "metadata": {},
   "outputs": [
    {
     "data": {
      "text/latex": [
       "$\\displaystyle \\left[\\begin{matrix}-2.0 & 1.0\\\\1.5 & -0.5\\end{matrix}\\right]$"
      ],
      "text/plain": [
       "Matrix([\n",
       "[-2.0,  1.0],\n",
       "[ 1.5, -0.5]])"
      ]
     },
     "metadata": {},
     "output_type": "display_data"
    }
   ],
   "source": [
    "A_inv = inverse_matrix(A)\n",
    "show_matrix(A_inv)"
   ]
  }
 ],
 "metadata": {
  "kernelspec": {
   "display_name": "Python 3",
   "language": "python",
   "name": "python3"
  },
  "language_info": {
   "codemirror_mode": {
    "name": "ipython",
    "version": 3
   },
   "file_extension": ".py",
   "mimetype": "text/x-python",
   "name": "python",
   "nbconvert_exporter": "python",
   "pygments_lexer": "ipython3",
   "version": "3.12.3"
  }
 },
 "nbformat": 4,
 "nbformat_minor": 2
}
